{
 "cells": [
  {
   "cell_type": "markdown",
   "metadata": {},
   "source": [
    "# Exercise 2: Decision Trees\n",
    "\n",
    "In this assignment you will implement a Decision Tree algorithm as learned in class.\n",
    "\n",
    "## Read the following instructions carefully:\n",
    "\n",
    "1. This jupyter notebook contains all the step by step instructions needed for this exercise.\n",
    "2. Write vectorized code whenever possible.\n",
    "3. You are responsible for the correctness of your code and should add as many tests as you see fit. Tests will not be graded nor checked.\n",
    "4. Write your functions in the provided `hw2.py` python module only. All the logic you write is imported and used in this jupyter notebook.\n",
    "5. You are allowed to use functions and methods from the [Python Standard Library](https://docs.python.org/3/library/) and [numpy](https://www.numpy.org/devdocs/reference/) only. Any other imports detected in `hw2.py` will earn you the grade of 0, even if you only used them for testing.\n",
    "6. Your code must run without errors. During the environment setup, you were given a specific version of `numpy` to install. Changes of the configuration we provided are at your own risk. Code that cannot run will also earn you the grade of 0.\n",
    "7. Write your own code. Cheating will not be tolerated. \n",
    "8. Submission includes the `hw2.py` file and this notebook. Answers to qualitative questions should be written in markdown cells (with $\\LaTeX$ support).\n",
    "9. You are allowed to include additional functions.\n",
    "10. Submission: zip only the completed jupyter notebook and the python file `hw2.py`. Do not include the data or any directories. Name the file `ID1_ID2.zip` and submit only one copy of the assignment.\n",
    "\n",
    "## In this exercise you will perform the following:\n",
    "1. Practice OOP in python.\n",
    "2. Implement two impurity measures: Gini and Entropy.\n",
    "3. Implement a decision tree from scratch.\n",
    "4. Prune the tree to achieve better results.\n",
    "5. Visualize your results and the tree."
   ]
  },
  {
   "cell_type": "code",
   "execution_count": 32,
   "metadata": {
    "deletable": false,
    "editable": false,
    "nbgrader": {
     "checksum": "63bcec20cb406a2169b49168f173c760",
     "grade": false,
     "grade_id": "cell-ed9fe7b1026e33cb",
     "locked": true,
     "schema_version": 1,
     "solution": false
    }
   },
   "outputs": [
    {
     "name": "stdout",
     "output_type": "stream",
     "text": [
      "The autoreload extension is already loaded. To reload it, use:\n",
      "  %reload_ext autoreload\n"
     ]
    }
   ],
   "source": [
    "import numpy as np\n",
    "import pandas as pd\n",
    "import matplotlib.pyplot as plt\n",
    "from hw2 import * # this imports all functions from hw2.\n",
    "\n",
    "# make matplotlib figures appear inline in the notebook\n",
    "%matplotlib inline\n",
    "plt.rcParams['figure.figsize'] = (10.0, 8.0) # set default size of plots\n",
    "plt.rcParams['image.interpolation'] = 'nearest'\n",
    "plt.rcParams['image.cmap'] = 'gray'\n",
    "\n",
    "# Make the notebook automatically reload external python modules\n",
    "%load_ext autoreload\n",
    "%autoreload 2"
   ]
  },
  {
   "cell_type": "markdown",
   "metadata": {},
   "source": [
    "## Warmup - OOP in python\n",
    "\n",
    "Our decision tree will be implemented using a dedicated python class. Python classes are very similar to classes in Java.\n",
    "\n",
    "\n",
    "You can use the following [site](https://jeffknupp.com/blog/2014/06/18/improve-your-python-python-classes-and-object-oriented-programming/) to learn about classes in python."
   ]
  },
  {
   "cell_type": "code",
   "execution_count": 33,
   "metadata": {},
   "outputs": [],
   "source": [
    "class Node(object):\n",
    "    def __init__(self, data):\n",
    "        self.data = data\n",
    "        self.children = []\n",
    "\n",
    "    def add_child(self, node):\n",
    "        self.children.append(node)"
   ]
  },
  {
   "cell_type": "code",
   "execution_count": 34,
   "metadata": {},
   "outputs": [
    {
     "data": {
      "text/plain": [
       "[<__main__.Node at 0x1a3ab1e35c0>, <__main__.Node at 0x1a3ab840e10>]"
      ]
     },
     "execution_count": 34,
     "metadata": {},
     "output_type": "execute_result"
    }
   ],
   "source": [
    "n = Node(5)\n",
    "p = Node(6)\n",
    "q = Node(7)\n",
    "n.add_child(p)\n",
    "n.add_child(q)\n",
    "n.children"
   ]
  },
  {
   "cell_type": "markdown",
   "metadata": {},
   "source": [
    "## Data preprocessing\n",
    "\n",
    "We will use the breast cancer dataset that is available as a part of sklearn - a popular machine learning and data science library in python. In this example, our dataset will be a single matrix with the **labels on the last column**. Notice that you are not allowed to use additional functions from sklearn."
   ]
  },
  {
   "cell_type": "code",
   "execution_count": 20,
   "metadata": {},
   "outputs": [
    {
     "name": "stdout",
     "output_type": "stream",
     "text": [
      "(569,)\n"
     ]
    }
   ],
   "source": []
  },
  {
   "cell_type": "code",
   "execution_count": 35,
   "metadata": {
    "deletable": false,
    "editable": false,
    "nbgrader": {
     "checksum": "0e2620b671ce98b8a856d59ce9f95f71",
     "grade": false,
     "grade_id": "cell-d79cb4542926ad3f",
     "locked": true,
     "schema_version": 1,
     "solution": false
    }
   },
   "outputs": [
    {
     "name": "stdout",
     "output_type": "stream",
     "text": [
      "Training dataset shape:  (426, 31)\n",
      "Testing dataset shape:  (143, 31)\n"
     ]
    }
   ],
   "source": [
    "from sklearn import datasets\n",
    "from sklearn.model_selection import train_test_split\n",
    "\n",
    "# load dataset\n",
    "X, y = datasets.load_breast_cancer(return_X_y = True)\n",
    "X = np.column_stack([X,y]) # the last column holds the labels\n",
    "\n",
    "# split dataset\n",
    "X_train, X_test = train_test_split(X, random_state=99)\n",
    "\n",
    "print(\"Training dataset shape: \", X_train.shape)\n",
    "print(\"Testing dataset shape: \", X_test.shape)"
   ]
  },
  {
   "cell_type": "code",
   "execution_count": 36,
   "metadata": {},
   "outputs": [
    {
     "name": "stdout",
     "output_type": "stream",
     "text": [
      "0.14235\n",
      "goodness\n",
      "[[1.200e+01 2.823e+01 7.677e+01 ... 2.447e-01 8.194e-02 1.000e+00]\n",
      " [1.157e+01 1.904e+01 7.420e+01 ... 3.035e-01 8.284e-02 1.000e+00]\n",
      " [1.316e+01 2.054e+01 8.406e+01 ... 2.687e-01 7.429e-02 1.000e+00]\n",
      " ...\n",
      " [1.460e+01 2.329e+01 9.397e+01 ... 2.477e-01 6.836e-02 0.000e+00]\n",
      " [1.808e+01 2.184e+01 1.174e+02 ... 2.369e-01 6.558e-02 0.000e+00]\n",
      " [1.008e+01 1.511e+01 6.376e+01 ... 2.933e-01 7.697e-02 1.000e+00]]\n",
      "hig\n",
      "[[1.646e+01 2.011e+01 1.093e+02 ... 3.054e-01 9.519e-02 0.000e+00]\n",
      " [1.490e+01 2.253e+01 1.021e+02 ... 2.866e-01 1.155e-01 0.000e+00]\n",
      " [2.060e+01 2.933e+01 1.401e+02 ... 4.087e-01 1.240e-01 0.000e+00]\n",
      " ...\n",
      " [9.029e+00 1.733e+01 5.879e+01 ... 4.228e-01 1.175e-01 1.000e+00]\n",
      " [1.747e+01 2.468e+01 1.161e+02 ... 2.160e-01 9.300e-02 0.000e+00]\n",
      " [1.674e+01 2.159e+01 1.101e+02 ... 4.863e-01 8.633e-02 0.000e+00]]\n",
      "27\n"
     ]
    }
   ],
   "source": [
    "#print(X_train)\n",
    "#t = X[:, -1]\n",
    "#print(t.shape[0])\n",
    "#calc_entropy(X_train)\n",
    "#calc_gini(X_train)\n",
    "\n",
    "mat = np.array([[1,1,1], [0,1,1], [1,0,0], [0,0,0]])\n",
    "#print(mat)\n",
    "thresh, maxFeature, left, right = bestFeature(X_train, calc_entropy)\n",
    "print(thresh)\n",
    "print(\"goodness\")\n",
    "print(left)\n",
    "print(\"hig\")\n",
    "print(right)\n",
    "print (maxFeature)\n",
    "\n",
    "#good , above, below = bestThreshold(mat, 1, calc_gini)\n",
    "#print(good)\n",
    "#print(above)\n",
    "#print (below)\n",
    "\n",
    "\n",
    "\n",
    "#big, small = splitData(X_train, 0, 10)\n",
    "#print(big)\n",
    "#print(\"now small\")\n",
    "#print(small)\n",
    "\n",
    "#big, small = splitData(mat, 0, 0.5)\n",
    "#print(big)\n",
    "#print(small)\n"
   ]
  },
  {
   "cell_type": "code",
   "execution_count": null,
   "metadata": {},
   "outputs": [],
   "source": []
  },
  {
   "cell_type": "markdown",
   "metadata": {},
   "source": [
    "## Impurity Measures\n",
    "\n",
    "Implement the functions `calc_gini` (5 points) and `calc_entropy` (5 points) in the python file `hw2.py`. You are encouraged to test your implementation using the cell below."
   ]
  },
  {
   "cell_type": "code",
   "execution_count": 37,
   "metadata": {},
   "outputs": [
    {
     "name": "stdout",
     "output_type": "stream",
     "text": [
      "0.47768299940488007\n",
      "0.9675594819018212\n"
     ]
    }
   ],
   "source": [
    "print(calc_gini(X_train))\n",
    "print(calc_entropy(X_train))"
   ]
  },
  {
   "cell_type": "markdown",
   "metadata": {},
   "source": [
    "## Building a Decision Tree\n",
    "\n",
    "Use a Python class to construct the decision tree (look at the `DecisionNode` class in the python file `hw2.py`. Your class should support the following functionality:\n",
    "\n",
    "1. Initiating a node for a decision tree. You will need to use several class methods and class attributes and you are free to use them as you see fit. We recommend that every node will hold the feature and value used for the split and its children.\n",
    "2. Your code should support both Gini and Entropy as impurity measures. \n",
    "3. The provided data includes continuous data. In this exercise, create at most a single split for each node of the tree. The threshold you need to use for this exercise are the average of each consecutive pair of values. For example, assume some features contains the following values: [1,2,3,4,5]. You should use the following thresholds [1.5, 2.5, 3.5, 4.5]. \n",
    "4. When constructing the tree, test all possible thresholds for each feature. The stopping criteria is a pure tree.\n",
    "\n",
    "Complete the class `DecisionNode` in the python file `hw2.py`. The structure of this class is entirely up to you. Complete the function `build_tree` in the python file `hw2.py`. This function should get the training dataset and the impurity as inputs, initiate a root for the decision tree and construct the tree according to the procedure you learned in class. (30 points)."
   ]
  },
  {
   "cell_type": "code",
   "execution_count": 38,
   "metadata": {},
   "outputs": [
    {
     "name": "stdout",
     "output_type": "stream",
     "text": [
      "<hw2.DecisionNode object at 0x000001A3AB1E3898>\n"
     ]
    }
   ],
   "source": [
    "# python support passing a function as arguments to another function.\n",
    "tree_gini = build_tree(data=X_train, impurity=calc_gini) \n",
    "print(tree_gini)\n",
    "tree_entropy = build_tree(data=X_train, impurity=calc_entropy)\n",
    "#print(tree_gini)\n",
    "#print(\"Feature: {0}, value: {1}, # of children: {2}\".format(tree_entropy.feature, tree_entropy.value, len(tree_entropy.children)))\n",
    "#print(\"Feature: {0}, value: {1}, # of children: {2}\".format(tree_gini.feature, tree_gini.value, len(tree_gini.children)))\n"
   ]
  },
  {
   "cell_type": "markdown",
   "metadata": {},
   "source": [
    "## Tree evaluation\n",
    "\n",
    "Complete the functions `predict` and `calc_accuracy` in the python file `hw2.py`. You are allowed to implement this functionality as a class method.\n",
    "\n",
    "After building both trees using the training set (using Gini and Entropy as impurity measures), you should calculate the accuracy on the test set and print the measure that gave you the best test accuracy. For the rest of the exercise, use that impurity measure. (10 points)"
   ]
  },
  {
   "cell_type": "code",
   "execution_count": 39,
   "metadata": {},
   "outputs": [
    {
     "name": "stdout",
     "output_type": "stream",
     "text": [
      "93.00699300699301\n",
      "93.7062937062937\n",
      "100.0\n",
      "100.0\n"
     ]
    }
   ],
   "source": [
    "print(calc_accuracy(tree_gini, X_test))\n",
    "print(calc_accuracy(tree_entropy, X_test))\n",
    "\n",
    "print(calc_accuracy(tree_gini, X_train))\n",
    "print(calc_accuracy(tree_entropy, X_train))"
   ]
  },
  {
   "cell_type": "markdown",
   "metadata": {},
   "source": [
    "## Chi square pre-pruning\n",
    "\n",
    "Consider the following p-value cut-off values: [1 (no pruning), 0.01, 0.005, 0.001, 0.0005, 0.0001, 0.00001]. For each value, construct a tree and prune it according to the cut-off value. Next, calculate the training and testing accuracy. On a single plot, draw the training and testing accuracy as a function of the p-value. What p-value gives you the best results? Does the results support the theory you learned in class regarding Chi square pruning? Explain. (20 points)\n",
    "\n",
    "**Note**: You need to change the `DecisionNode` to support Chi square pruning. Make sure the `chi_value=1` corresponds to no pruning. The values you need from the Chi square table are available in the python file `hw2.py`."
   ]
  },
  {
   "cell_type": "code",
   "execution_count": 41,
   "metadata": {},
   "outputs": [
    {
     "name": "stdout",
     "output_type": "stream",
     "text": [
      "[100.0, 99.29577464788733, 96.71361502347418, 96.71361502347418, 96.71361502347418, 88.02816901408451, 88.02816901408451]\n",
      "---\n",
      "[93.7062937062937, 93.00699300699301, 92.3076923076923, 92.3076923076923, 92.3076923076923, 84.61538461538461, 84.61538461538461]\n"
     ]
    }
   ],
   "source": [
    "training = []\n",
    "testing  = []\n",
    "\n",
    "for chi_value in [1, 0.01, 0.005, 0.001, 0.0005, 0.0001, 0.00001]:\n",
    "    train = build_tree(data=X_train, impurity=calc_entropy, chi_value=chi_value)\n",
    "    training.append(calc_accuracy(train, X_train))\n",
    "    testing.append(calc_accuracy(train, X_test))\n",
    "print (training)\n",
    "print(\"---\")\n",
    "print(testing)"
   ]
  },
  {
   "cell_type": "code",
   "execution_count": null,
   "metadata": {},
   "outputs": [],
   "source": [
    "C = [[1, 0],\n",
    "     [1, 0],\n",
    "     [1, 0],\n",
    "     [1, 0],\n",
    "     [1, 0],\n",
    "     [0, 1],]\n",
    "C = np.array(C)\n",
    "C_tree = build_tree(data=C, impurity=calc_entropy,)"
   ]
  },
  {
   "cell_type": "code",
   "execution_count": 43,
   "metadata": {},
   "outputs": [
    {
     "data": {
      "image/png": "[encoded data removed]",
      "text/plain": [
       "<Figure size 720x576 with 1 Axes>"
      ]
     },
     "metadata": {
      "needs_background": "light"
     },
     "output_type": "display_data"
    }
   ],
   "source": [
    "array = [1, 0.01, 0.005, 0.001, 0.0005, 0.0001, 0.00001]\n",
    "plt.plot(array, training,marker='o')\n",
    "plt.plot(array, testing,marker='o')\n",
    "plt.xscale('log')\n",
    "plt.xlabel('p-values')\n",
    "plt.ylabel('accuracy')\n",
    "plt.title('accuracy as a function of the p-value.')\n",
    "plt.legend(['training data', 'testing data'])\n",
    "plt.show()"
   ]
  },
  {
   "cell_type": "markdown",
   "metadata": {},
   "source": [
    "For the training data the p-value that gives me the best results is 1, which means no pruning, and as the p-value is smaller, which means the matching value in the chi_table is higher, the accuracy of the training data is Descending.\n",
    "The results support the theory we learned since we are trying to avoid overfit by pruning the tree and we do get that the training accuracy is Descending due to the pruning.\n",
    "\n",
    "we can see that as the p-value is smaller, which means the matching value in the chi_table is higher, the accuracy of the training data is Descending and the accuracy of the testing data is ___ . it m"
   ]
  },
  {
   "cell_type": "markdown",
   "metadata": {},
   "source": [
    "## Post pruning\n",
    "\n",
    "Construct a decision tree without Chi square pruning. For each leaf in the tree, calculate the test accuracy of the tree assuming no split occurred on the parent of that leaf and find the best such parent (in the sense that not splitting on that parent results in the best testing accuracy among possible parents). Make that parent into a leaf and repeat this process until you are left with just the root. On a single plot, draw the training and testing accuracy as a function of the number of internal nodes in the tree. Explain the results: what would happen to the training and testing accuracies when you remove nodes from the tree? Can you suggest a different approach to achieve better results? (20 points)"
   ]
  },
  {
   "cell_type": "code",
   "execution_count": 57,
   "metadata": {},
   "outputs": [
    {
     "name": "stdout",
     "output_type": "stream",
     "text": [
      "\n",
      "<function numOfNodes at 0x000001A3AC32E0D0>\n",
      "\n",
      "<function numOfNodes at 0x000001A3AC32E0D0>\n",
      "\n",
      "<function numOfNodes at 0x000001A3AC32E0D0>\n",
      "\n",
      "<function numOfNodes at 0x000001A3AC32E0D0>\n",
      "\n",
      "<function numOfNodes at 0x000001A3AC32E0D0>\n",
      "\n",
      "<function numOfNodes at 0x000001A3AC32E0D0>\n",
      "\n",
      "<function numOfNodes at 0x000001A3AC32E0D0>\n",
      "\n",
      "<function numOfNodes at 0x000001A3AC32E0D0>\n",
      "\n",
      "<function numOfNodes at 0x000001A3AC32E0D0>\n",
      "\n",
      "<function numOfNodes at 0x000001A3AC32E0D0>\n",
      "\n",
      "<function numOfNodes at 0x000001A3AC32E0D0>\n",
      "\n",
      "<function numOfNodes at 0x000001A3AC32E0D0>\n",
      "\n",
      "<function numOfNodes at 0x000001A3AC32E0D0>\n",
      "\n",
      "<function numOfNodes at 0x000001A3AC32E0D0>\n",
      "\n",
      "<function numOfNodes at 0x000001A3AC32E0D0>\n",
      "\n",
      "<function numOfNodes at 0x000001A3AC32E0D0>\n",
      "\n",
      "<function numOfNodes at 0x000001A3AC32E0D0>\n",
      "\n",
      "<function numOfNodes at 0x000001A3AC32E0D0>\n",
      "[100.0, 99.29577464788733, 98.12206572769952, 96.71361502347418, 94.60093896713614, 93.42723004694837, 91.07981220657277, 88.02816901408451, 83.80281690140845, 50.70422535211267, 0.0, 0.0, 0.0, 0.0, 0.0]\n",
      "[15, 14, 13, 12, 11, 10, 9, 8, 7, 5, 4, 3, 2, 1, 0, 0]\n",
      "------\n",
      "[100.0, 90.9090909090909, 65.03496503496503, 0.0, 0.0]\n",
      "[4, 3, 2, 1, 0, 0]\n"
     ]
    }
   ],
   "source": [
    "testing_accuracy, test_accuracy, nodes_num = post_pruning(root, X_train, X_test)\n",
    "\n",
    "test = build_tree(data=X_test, impurity=calc_entropy)\n",
    "\n",
    "\n",
    "train = build_tree(data=X_train, impurity=calc_entropy)\n",
    "\n",
    "\n",
    "\n",
    "#numi = numOfNodes(train)\n",
    "#print(numi)\n",
    "\n",
    "acc_train, node_train = post_pruning(train,X_train)\n",
    "acc_test, node_test = post_pruning(test,X_test)\n",
    "print (acc_train)\n",
    "print (node_train)\n",
    "print(\"------\")\n",
    "print(acc_test)\n",
    "\n",
    "print(node_test)"
   ]
  },
  {
   "cell_type": "markdown",
   "metadata": {},
   "source": [
    "Your answer here"
   ]
  },
  {
   "cell_type": "markdown",
   "metadata": {},
   "source": [
    "## Print the tree\n",
    "\n",
    "Complete the function `print_tree` in the python file `hw2.py` and print the tree using the chosen impurity measure and no pruning. Your code should like something like this (10 points):\n",
    "```\n",
    "[X0 <= 1],\n",
    "  [X1 <= 2]\n",
    "    [X2 <= 3], \n",
    "       leaf: [{1.0: 10}]\n",
    "       leaf: [{0.0: 10}]\n",
    "    [X4 <= 5], \n",
    "       leaf: [{1.0: 5}]\n",
    "       leaf: [{0.0: 10}]\n",
    "   leaf: [{1.0: 50}]\n",
    "```\n"
   ]
  },
  {
   "cell_type": "code",
   "execution_count": 27,
   "metadata": {},
   "outputs": [
    {
     "name": "stdout",
     "output_type": "stream",
     "text": [
      "[X27 <= 0.14235]\n",
      "\t[X3 <= 696.25]\n",
      "\t\t[X27 <= 0.1349]\n",
      "\t\t\t[X10 <= 0.62555]\n",
      "\t\t\t\t[X21 <= 33.349999999999994]\n",
      "\t\t\t\t\tleaf: [{1.0: 216}]\n",
      "\t\t\t\t\t[X21 <= 33.56]\n",
      "\t\t\t\t\t\tleaf: [{0.0: 1}]\n",
      "\t\t\t\t\t\tleaf: [{1.0: 17}]\n",
      "\t\t\t\t[X1 <= 18.630000000000003]\n",
      "\t\t\t\t\tleaf: [{0.0: 1}]\n",
      "\t\t\t\t\tleaf: [{1.0: 2}]\n",
      "\t\t\t[X15 <= 0.02744]\n",
      "\t\t\t\t[X0 <= 13.225000000000001]\n",
      "\t\t\t\t\tleaf: [{1.0: 1}]\n",
      "\t\t\t\t\tleaf: [{0.0: 4}]\n",
      "\t\t\t\tleaf: [{1.0: 6}]\n",
      "\t\t[X1 <= 19.72]\n",
      "\t\t\t[X6 <= 0.073105]\n",
      "\t\t\t\tleaf: [{1.0: 7}]\n",
      "\t\t\t\tleaf: [{0.0: 3}]\n",
      "\t\t\tleaf: [{0.0: 13}]\n",
      "\t[X13 <= 21.924999999999997]\n",
      "\t\t[X21 <= 29.0]\n",
      "\t\t\t[X1 <= 20.52]\n",
      "\t\t\t\tleaf: [{1.0: 8}]\n",
      "\t\t\t\tleaf: [{0.0: 1}]\n",
      "\t\t\tleaf: [{0.0: 5}]\n",
      "\t\t[X4 <= 0.079285]\n",
      "\t\t\tleaf: [{1.0: 1}]\n",
      "\t\t\tleaf: [{0.0: 140}]\n"
     ]
    }
   ],
   "source": [
    "print_tree(tree_entropy)"
   ]
  }
 ],
 "metadata": {
  "kernelspec": {
   "display_name": "Python 3",
   "language": "python",
   "name": "python3"
  },
  "language_info": {
   "codemirror_mode": {
    "name": "ipython",
    "version": 3
   },
   "file_extension": ".py",
   "mimetype": "text/x-python",
   "name": "python",
   "nbconvert_exporter": "python",
   "pygments_lexer": "ipython3",
   "version": "3.7.1"
  }
 },
 "nbformat": 4,
 "nbformat_minor": 2
}
